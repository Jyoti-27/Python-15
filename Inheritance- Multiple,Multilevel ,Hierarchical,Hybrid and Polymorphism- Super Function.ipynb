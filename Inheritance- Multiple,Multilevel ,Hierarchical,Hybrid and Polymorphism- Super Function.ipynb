{
 "cells": [
  {
   "cell_type": "markdown",
   "metadata": {},
   "source": [
    "## Inheritance"
   ]
  },
  {
   "cell_type": "code",
   "execution_count": 2,
   "metadata": {},
   "outputs": [
    {
     "name": "stdout",
     "output_type": "stream",
     "text": [
      "This is a Jasmine Flower\n"
     ]
    },
    {
     "data": {
      "text/plain": [
       "'This is a Flower Brand'"
      ]
     },
     "execution_count": 2,
     "metadata": {},
     "output_type": "execute_result"
    }
   ],
   "source": [
    "# Come up with an example of Single Inheritance.\n",
    "class Flower:\n",
    "    def brandname(self):\n",
    "        return \"This is a Flower Brand\"\n",
    "\n",
    "class Jasmine(Flower):\n",
    "    def flowername(self):\n",
    "        return \"This is a Jasmine Flower\"\n",
    "    \n",
    "J1 = Jasmine()\n",
    "print(J1.flowername())\n",
    "J1.brandname()"
   ]
  },
  {
   "cell_type": "code",
   "execution_count": 16,
   "metadata": {},
   "outputs": [
    {
     "name": "stdout",
     "output_type": "stream",
     "text": [
      "Product name is noodles Noodles name is Maggie\n"
     ]
    }
   ],
   "source": [
    "class Product:\n",
    "    def Product_name(self):\n",
    "        return \"Product name is noodles\"\n",
    "\n",
    "class Maggie(Product):\n",
    "    def noodles(self):\n",
    "        return \"Noodles name is Maggie\"\n",
    "    \n",
    "maggie1 = Maggie()\n",
    "print(maggie1.Product_name(),maggie1.noodles())"
   ]
  },
  {
   "cell_type": "code",
   "execution_count": 12,
   "metadata": {},
   "outputs": [
    {
     "name": "stdout",
     "output_type": "stream",
     "text": [
      "Child Class:- This is a Maruti Suzuki\n",
      "Parent Class1:- This is Maruti\n",
      "Parent Class2:- This is Suzuki\n"
     ]
    }
   ],
   "source": [
    "# Come up with an example for Multiple Inheritance using Maruti, Suzuki, and theircollaboration marutisuzuki\n",
    "# Multiple Inheritance\n",
    "class Maruti:\n",
    "    def brandname(self):\n",
    "        return \"This is Maruti\"\n",
    "class Suzuki:\n",
    "    def sbrandname(self):\n",
    "        return \"This is Suzuki\"\n",
    "class MarutiSuzuki(Maruti,Suzuki):\n",
    "    def name(self):\n",
    "        return \"This is a Maruti Suzuki\"\n",
    "car1 = MarutiSuzuki()\n",
    "print(\"Child Class:-\",car1.name())\n",
    "print(\"Parent Class1:-\",car1.brandname())\n",
    "print(\"Parent Class2:-\",car1.sbrandname())"
   ]
  },
  {
   "cell_type": "code",
   "execution_count": 18,
   "metadata": {},
   "outputs": [
    {
     "name": "stdout",
     "output_type": "stream",
     "text": [
      "Was an Indian Company and was known as Maruti Udyog before\n",
      "Was an Japan Company and was known as Suzuki Motor Corporation\n",
      "Now known as Maruti Suzuki\n"
     ]
    }
   ],
   "source": [
    "# Multiple Inheritance\n",
    "class Maruti:\n",
    "    def mName(self):\n",
    "        return \"Was an Indian Company and was known as Maruti Udyog before\"\n",
    "class Suzuki:\n",
    "    def sName(self):\n",
    "        return \"Was an Japan Company and was known as Suzuki Motor Corporation\"\n",
    "class MarutiSuzuki(Maruti,Suzuki):\n",
    "    def msName(self):\n",
    "        return \"Now known as Maruti Suzuki\"\n",
    "ob = MarutiSuzuki()\n",
    "print(ob.mName())\n",
    "print(ob.sName())\n",
    "print(ob.msName())"
   ]
  },
  {
   "cell_type": "code",
   "execution_count": 10,
   "metadata": {},
   "outputs": [
    {
     "name": "stdout",
     "output_type": "stream",
     "text": [
      "This is function1\n",
      "this is function2\n",
      "This is function3\n"
     ]
    }
   ],
   "source": [
    "# Multiple Inheritance\n",
    "class Parent1:\n",
    "    def func1(self):\n",
    "        print(\"This is function1\")\n",
    "class Parent2:\n",
    "    def func3(self):\n",
    "        print(\"This is function3\")\n",
    "class Child(Parent1,Parent2):\n",
    "    def func2(self):\n",
    "        print(\"this is function2\")\n",
    "Obj = Child()\n",
    "Obj.func1()\n",
    "Obj.func2()\n",
    "Obj.func3()\n",
    "    "
   ]
  },
  {
   "cell_type": "code",
   "execution_count": 9,
   "metadata": {},
   "outputs": [
    {
     "name": "stdout",
     "output_type": "stream",
     "text": [
      "Latest Gen:- This is Third Generation\n",
      "Property of second Class:- This is Second Generation\n",
      "Property of First Class:- This is First Generation\n"
     ]
    }
   ],
   "source": [
    "# Come up with an example for Multilevel Inheritance of your choice.\n",
    "\n",
    "class Nehru:\n",
    "    def Fgen(self):\n",
    "        return \"This is First Generation\"\n",
    "    \n",
    "    \n",
    "class RajivGandhi(Nehru):\n",
    "    def Sgen(self):\n",
    "        return \"This is Second Generation\"\n",
    "    \n",
    "\n",
    "class RahulGandhi(RajivGandhi):\n",
    "    def Tgen(self):\n",
    "        return \"This is Third Generation\"\n",
    "\n",
    "\n",
    "Congress = RahulGandhi()\n",
    "print (\"Latest Gen:-\",Congress.Tgen())\n",
    "print (\"Property of second Class:-\",Congress.Sgen())\n",
    "print (\"Property of First Class:-\",Congress.Fgen())\n",
    "\n"
   ]
  },
  {
   "cell_type": "code",
   "execution_count": 58,
   "metadata": {},
   "outputs": [
    {
     "name": "stdout",
     "output_type": "stream",
     "text": [
      "Eating...\n",
      "Barking...\n",
      "Weeping...\n"
     ]
    }
   ],
   "source": [
    "# Multilevel Inheritance\n",
    "class Animal:\n",
    "    def eat(self):\n",
    "        print(\"Eating...\")\n",
    "class Dog(Animal):\n",
    "    def bark(self):\n",
    "        print(\"Barking...\")\n",
    "class BabyDog(Dog):\n",
    "    def weep(self):\n",
    "        print(\"Weeping...\")\n",
    "d = BabyDog()\n",
    "d.eat()\n",
    "d.bark()\n",
    "d.weep()"
   ]
  },
  {
   "cell_type": "code",
   "execution_count": null,
   "metadata": {},
   "outputs": [],
   "source": [
    "# Multilevel Inheritance - In this type of Inheritance, a derived class is created from another deived class.\n",
    "# Hierachical Inheritance - In this type of Inheritance, more than one subclass is inherited from a single base class."
   ]
  },
  {
   "cell_type": "code",
   "execution_count": null,
   "metadata": {},
   "outputs": [],
   "source": [
    "# When a child is inheriting properties from mother and father both we can called as multiple inheritance.\n",
    "- child(mother,father)"
   ]
  },
  {
   "cell_type": "code",
   "execution_count": 11,
   "metadata": {},
   "outputs": [
    {
     "ename": "NameError",
     "evalue": "name 'grandparent' is not defined",
     "output_type": "error",
     "traceback": [
      "\u001b[1;31m---------------------------------------------------------------------------\u001b[0m",
      "\u001b[1;31mNameError\u001b[0m                                 Traceback (most recent call last)",
      "\u001b[1;32m<ipython-input-11-7ad47e1c7856>\u001b[0m in \u001b[0;36m<module>\u001b[1;34m\u001b[0m\n\u001b[0;32m      1\u001b[0m \u001b[1;31m# When a child inherits the properties from parent as well as grandparent then we can called as multilevel inheritance.\u001b[0m\u001b[1;33m\u001b[0m\u001b[1;33m\u001b[0m\u001b[1;33m\u001b[0m\u001b[0m\n\u001b[1;32m----> 2\u001b[1;33m \u001b[0mgrandparent\u001b[0m\u001b[1;33m\u001b[0m\u001b[1;33m\u001b[0m\u001b[0m\n\u001b[0m\u001b[0;32m      3\u001b[0m \u001b[0mparent\u001b[0m\u001b[1;33m(\u001b[0m\u001b[0mgrandparent\u001b[0m\u001b[1;33m)\u001b[0m\u001b[1;33m\u001b[0m\u001b[1;33m\u001b[0m\u001b[0m\n\u001b[0;32m      4\u001b[0m \u001b[0mchild\u001b[0m\u001b[1;33m(\u001b[0m\u001b[0mparent\u001b[0m\u001b[1;33m)\u001b[0m\u001b[1;33m\u001b[0m\u001b[1;33m\u001b[0m\u001b[0m\n",
      "\u001b[1;31mNameError\u001b[0m: name 'grandparent' is not defined"
     ]
    }
   ],
   "source": [
    "# When a child inherits the properties from parent as well as grandparent then we can called as multilevel inheritance.\n",
    "- grandparent\n",
    "- parent(grandparent)\n",
    "- child(parent"
   ]
  },
  {
   "cell_type": "code",
   "execution_count": 22,
   "metadata": {},
   "outputs": [
    {
     "name": "stdout",
     "output_type": "stream",
     "text": [
      "From PCDS Course Data Analyst Role\n",
      "From PCDS Course Data Engineer Role\n"
     ]
    }
   ],
   "source": [
    "# Hierarchical Inheritance \n",
    "class Course_PCDS:\n",
    "    def course_name(self):\n",
    "        return \"From PCDS Course\"\n",
    "class Data_Analyst(Course_PCDS):\n",
    "    def jobrole1(self):\n",
    "        return \"Data Analyst Role\"\n",
    "class Data_Engineer(Course_PCDS):\n",
    "    def jobrole2(self):\n",
    "        return \"Data Engineer Role\"\n",
    "job1 = Data_Analyst()\n",
    "print(job1.course_name(),job1.jobrole1())\n",
    "job2 = Data_Engineer()\n",
    "print(job2.course_name(),job2.jobrole2())\n"
   ]
  },
  {
   "cell_type": "code",
   "execution_count": 34,
   "metadata": {},
   "outputs": [
    {
     "name": "stdout",
     "output_type": "stream",
     "text": [
      "Ambani's First son:- This is Mukesh Ambani\n",
      "Ambani's Second son:- This is Anil Ambani\n"
     ]
    }
   ],
   "source": [
    "# Example of Hirarchical Inheritance \n",
    "\n",
    "class Ambani:\n",
    "    def sname(self):\n",
    "        return \"Ambani\"\n",
    "    \n",
    "    \n",
    "class Mukesh(Ambani):\n",
    "    def Fname(self):\n",
    "        return \"This is Mukesh\"\n",
    "    \n",
    "\n",
    "class Anil(Ambani):\n",
    "    def Fname(self):\n",
    "        return \"This is Anil\"\n",
    "\n",
    "\n",
    "a1 = Mukesh()\n",
    "a2 = Anil()\n",
    "print (\"Ambani's First son:-\",a1.Fname(),a1.sname())\n",
    "print (\"Ambani's Second son:-\",a2.Fname(),a2.sname())\n"
   ]
  },
  {
   "cell_type": "code",
   "execution_count": 24,
   "metadata": {},
   "outputs": [
    {
     "name": "stdout",
     "output_type": "stream",
     "text": [
      "This function is in school.\n",
      "This function is in student 1. \n"
     ]
    }
   ],
   "source": [
    "# Hybrid Inheritance\n",
    "# Python program to demonstrate \n",
    "# hybrid inheritance \n",
    "\n",
    "class School: \n",
    "     def func1(self): \n",
    "        print(\"This function is in school.\") \n",
    "\n",
    "class Student1(School): \n",
    "     def func2(self): \n",
    "        print(\"This function is in student 1. \") \n",
    "\n",
    "class Student2(School): \n",
    "     def func3(self): \n",
    "        print(\"This function is in student 2.\") \n",
    "\n",
    "class Student3(Student1, Student2): \n",
    "     def func4(self): \n",
    "        print(\"This function is in student 3.\") \n",
    "        \n",
    "# Driver's code \n",
    "object = Student3() \n",
    "object.func1() \n",
    "object.func2()\n"
   ]
  },
  {
   "cell_type": "code",
   "execution_count": 35,
   "metadata": {},
   "outputs": [
    {
     "name": "stdout",
     "output_type": "stream",
     "text": [
      "customer1:- This is Mukesh Ambani Thanks for using Maruti car\n",
      "customer1:- This is Anil Ambani Thanks for using Maruti car\n"
     ]
    }
   ],
   "source": [
    "# Hybrid Inheritance\n",
    "\n",
    "class Ambani:\n",
    "    def sname(self):\n",
    "        return \"Ambani\"\n",
    "    \n",
    "    \n",
    "class Mukesh(Ambani):\n",
    "    def Mname(self):\n",
    "        return \"This is Mukesh\"\n",
    "    \n",
    "\n",
    "class Anil(Ambani):\n",
    "    def Aname(self):\n",
    "        return \"This is Anil\"\n",
    "\n",
    "\n",
    "class Maruti(Mukesh,Anil):\n",
    "    def brandname(self):\n",
    "        return \"Thanks for using Maruti car\"\n",
    "    \n",
    "    \n",
    "car1 = Maruti()\n",
    "print (\"customer1:-\",car1.Mname(),car1.sname(),car1.brandname())\n",
    "print (\"customer1:-\",car1.Aname(),car1.sname(),car1.brandname())\n"
   ]
  },
  {
   "cell_type": "code",
   "execution_count": 36,
   "metadata": {},
   "outputs": [
    {
     "name": "stdout",
     "output_type": "stream",
     "text": [
      " From PCDS course you may get a  Data Analyst role. Data Engineer role. machine learning Deep learning\n"
     ]
    }
   ],
   "source": [
    "# Hybrid Inheritance\n",
    "\n",
    "class Course_PCDS:\n",
    "    def course_name(self):\n",
    "        return ' From PCDS course you may get a '\n",
    "    \n",
    "class Data_analyst(Course_PCDS):\n",
    "    def jobrole1(self):\n",
    "        return 'Data Analyst role.'\n",
    "    \n",
    "class Data_engineer(Course_PCDS): \n",
    "    def jobrole2(self):\n",
    "        return 'Data Engineer role.'\n",
    "    \n",
    "class ArtificialIntelligence(Data_analyst,Data_engineer):\n",
    "    def skillset1(self):\n",
    "        return 'machine learning'\n",
    "    def skillset2(self):\n",
    "        return 'Deep learning'\n",
    "\n",
    "hybrid1 =ArtificialIntelligence()\n",
    "print(hybrid1.course_name(),hybrid1.jobrole1(),hybrid1.jobrole2(),hybrid1.skillset1(),hybrid1.skillset2())\n"
   ]
  },
  {
   "cell_type": "code",
   "execution_count": 2,
   "metadata": {},
   "outputs": [],
   "source": [
    "# Hybrid Inheritance\n",
    "\n",
    "class Species:\n",
    "    def func1(self):\n",
    "        print(\"The function is for living things\")\n",
    "        \n",
    "class Plants(Species):\n",
    "    def func2(self):\n",
    "        print(\"The function is in Plant, which can't move\") \n",
    "        \n",
    "class Animals(Species):\n",
    "    def func3(self):\n",
    "        print(\"The function is in Animals, which can move around\") \n",
    "        \n",
    "class Trees(Plants):\n",
    "    def func4(self):\n",
    "        print(\"The function is in Trees , which are big plants\") \n",
    "        \n",
    "class Dogs(Animals):\n",
    "    def func5(self):\n",
    "        print(\"The function is in Dogs , which  can move and bark\") \n",
    "\n",
    "class Human(Species):\n",
    "    def func6(self):\n",
    "        print(\"The function is in Human  , who are intelligent\")\n",
    "        "
   ]
  },
  {
   "cell_type": "code",
   "execution_count": 37,
   "metadata": {},
   "outputs": [
    {
     "name": "stdout",
     "output_type": "stream",
     "text": [
      "This is either from Jaguar or Ford\n",
      "Tata Motor is subsidiary of Tata Sons\n"
     ]
    }
   ],
   "source": [
    "# example of Hybrid Inheritance\n",
    "\n",
    "class TataSons:\n",
    "    def parent(self):\n",
    "        return \"The company belongs to Tata Sons\"\n",
    "    \n",
    "class Tatamotor(TataSons):\n",
    "    def sisconcern(self):\n",
    "        return \"Tata Motor is subsidiary of Tata Sons\"\n",
    "    \n",
    "class Jaguar(Tatamotor):\n",
    "    def prmseg(self):\n",
    "        return \" This is premium segment of Tata Motor\"\n",
    "    \n",
    "class Ford(Tatamotor):\n",
    "    def ecoseg(self):\n",
    "        return \"This is mid segment of Tata Motor\"\n",
    "    \n",
    "class car(Jaguar, Ford):\n",
    "    def brand(self):\n",
    "        return \"This is either from Jaguar or Ford\"\n",
    "    \n",
    "\n",
    "Car1 = car()\n",
    "print(Car1.brand())\n",
    "print(Car1.sisconcern())"
   ]
  },
  {
   "cell_type": "markdown",
   "metadata": {},
   "source": [
    "# Polymorphism : Poly - Many, Morphism - Forms"
   ]
  },
  {
   "cell_type": "code",
   "execution_count": 25,
   "metadata": {},
   "outputs": [
    {
     "data": {
      "text/plain": [
       "5"
      ]
     },
     "execution_count": 25,
     "metadata": {},
     "output_type": "execute_result"
    }
   ],
   "source": [
    "# Addition of numbers\n",
    "a = 2\n",
    "b = 3\n",
    "a + b"
   ]
  },
  {
   "cell_type": "code",
   "execution_count": 26,
   "metadata": {},
   "outputs": [
    {
     "data": {
      "text/plain": [
       "'JyotiSabarad'"
      ]
     },
     "execution_count": 26,
     "metadata": {},
     "output_type": "execute_result"
    }
   ],
   "source": [
    "# Concatanaion of strings\n",
    "A = \"Jyoti\"\n",
    "B = \"Sabarad\"\n",
    "A + B"
   ]
  },
  {
   "cell_type": "code",
   "execution_count": 29,
   "metadata": {},
   "outputs": [
    {
     "name": "stdout",
     "output_type": "stream",
     "text": [
      "Humans Legs 2\n",
      "Animals Legs 4\n"
     ]
    }
   ],
   "source": [
    "# Create a class of Humans create a method to find the number of legs for humans i.e. 2\n",
    "# Create another class of animals and create a method with the name as in the previous class to find the number of legs i.e. 4\n",
    "# Now create an instance of humans and find the number of legs using the method that we defined.\n",
    "# Now create an instance of animals and the number of legs using the method that we defined.\n",
    "\n",
    "\n",
    "class Human():\n",
    "    def legs(self):\n",
    "        return 2\n",
    "    \n",
    "class Animals():\n",
    "    def legs(self):\n",
    "        return 4\n",
    "    \n",
    "\n",
    "H1 = Human()\n",
    "print (\"Humans Legs\",H1.legs())\n",
    "\n",
    "A1 = Animals()\n",
    "print (\"Animals Legs\",A1.legs())\n"
   ]
  },
  {
   "cell_type": "code",
   "execution_count": 56,
   "metadata": {},
   "outputs": [
    {
     "ename": "SyntaxError",
     "evalue": "EOL while scanning string literal (<ipython-input-56-3af426e45d7d>, line 10)",
     "output_type": "error",
     "traceback": [
      "\u001b[1;36m  File \u001b[1;32m\"<ipython-input-56-3af426e45d7d>\"\u001b[1;36m, line \u001b[1;32m10\u001b[0m\n\u001b[1;33m    print(\"Humans1.number_of_legs())\u001b[0m\n\u001b[1;37m                                    ^\u001b[0m\n\u001b[1;31mSyntaxError\u001b[0m\u001b[1;31m:\u001b[0m EOL while scanning string literal\n"
     ]
    }
   ],
   "source": [
    "class Humans:\n",
    "    def number_of_legs(self):\n",
    "        return(\"The number of legs for Humans is 2\") \n",
    "    \n",
    "class Animals:\n",
    "    def number_of_legs(self):\n",
    "        return(\"The number of legs for Animals is 4\") \n",
    "    \n",
    "Humans1 = Humans()\n",
    "print(\"Humans1.number_of_legs())\n",
    "Animals1 = Animals()\n",
    "print(\"Animals1.number_of_legs())"
   ]
  },
  {
   "cell_type": "code",
   "execution_count": 30,
   "metadata": {},
   "outputs": [
    {
     "name": "stdout",
     "output_type": "stream",
     "text": [
      "Area of square is  16\n",
      "Area of rectangle is  20\n"
     ]
    }
   ],
   "source": [
    "# create a class of squares and define a method whose name is Area to find out the area of the square\n",
    "\n",
    "# create a class of rectangles and define a method with the same name Area to find out the area of the rectangle \n",
    "\n",
    "# then create an instance of square and find the area create an instance of rectangle and find the area\n",
    "\n",
    "class Square:\n",
    "    def area(self, height):\n",
    "        return height * height\n",
    "class Rectangle:\n",
    "    def area(self, height, width):\n",
    "        return height * width\n",
    "height = 4\n",
    "width = 5\n",
    "ob1 = Square()\n",
    "print(\"Area of square is \", ob1.area(height))\n",
    "ob2 = Rectangle()\n",
    "print(\"Area of rectangle is \", ob2.area(height, width))"
   ]
  },
  {
   "cell_type": "code",
   "execution_count": 57,
   "metadata": {},
   "outputs": [
    {
     "name": "stdout",
     "output_type": "stream",
     "text": [
      "Area of square : 100\n",
      "Area of rectangle is : 200\n"
     ]
    }
   ],
   "source": [
    "class Square:\n",
    "    def area(self, a):\n",
    "        return a * a\n",
    "class Rectangle:\n",
    "    def area(self, length, width):\n",
    "        return length * width\n",
    "shape1 = Square()\n",
    "print(\"Area of square : {}\".format(shape1.area(10)))\n",
    "shape2 = Rectangle()\n",
    "print(\"Area of rectangle is : {}\".format(shape2.area(10,20)))"
   ]
  },
  {
   "cell_type": "code",
   "execution_count": 31,
   "metadata": {},
   "outputs": [
    {
     "name": "stdout",
     "output_type": "stream",
     "text": [
      "Area of Square 16\n",
      "Area of Rectangles 24\n"
     ]
    }
   ],
   "source": [
    "class Squares:\n",
    "    def __init__(self,a):\n",
    "        self.a = a\n",
    "        \n",
    "    def area(self):\n",
    "        return (self.a*self.a)\n",
    "    \n",
    "class Rectangles:\n",
    "    def __init__(self,a,b):\n",
    "        self.a = a\n",
    "        self.b = b\n",
    "        \n",
    "    def area(self):\n",
    "        return (self.a*self.b)\n",
    "    \n",
    "    \n",
    "s1 = Squares(4)\n",
    "print (\"Area of Square\",s1.area())\n",
    "\n",
    "r1 = Rectangles(4,6)\n",
    "print (\"Area of Rectangles\",r1.area())\n"
   ]
  },
  {
   "cell_type": "markdown",
   "metadata": {},
   "source": [
    "### Polymorphism and Inheritance\n",
    "- Like in other programming languages, the child classes in Python also inherit methods and attributes from the parent class. We can redefine certain methods and attributes specifically to fit the child class, which is known as Method Overriding.\n",
    "\n",
    "- Polymorphism allows us to access these overridden methods and attributes that have the same name as the parent class.\n",
    "\n",
    "- Let's look at an example:\n"
   ]
  },
  {
   "cell_type": "markdown",
   "metadata": {},
   "source": [
    "### Super Function\n",
    "- super() directly calls the parent class method\n",
    "\n",
    "### Definition and Usage\n",
    "- The super() function is used to give access to methods and properties of a parent or sibling class.\n",
    "\n",
    "- The super() function returns an object that represents the parent class.\n",
    "\n",
    "- No need to pass any parameters"
   ]
  },
  {
   "cell_type": "code",
   "execution_count": 1,
   "metadata": {},
   "outputs": [
    {
     "name": "stdout",
     "output_type": "stream",
     "text": [
      "This is function1\n",
      "This is function2\n"
     ]
    }
   ],
   "source": [
    "# Super Function\n",
    "\n",
    "class Parent:\n",
    "    def func1(self):\n",
    "        print(\"This is function1\")\n",
    "\n",
    "class Child(Parent):\n",
    "    def func2(self):\n",
    "        super().func1()\n",
    "        print(\"This is function2\")\n",
    "        \n",
    "obj = Child()\n",
    "obj.func2()"
   ]
  },
  {
   "cell_type": "code",
   "execution_count": 33,
   "metadata": {},
   "outputs": [
    {
     "name": "stdout",
     "output_type": "stream",
     "text": [
      "Hello, and welcome to DataFolkz\n"
     ]
    }
   ],
   "source": [
    "# Super Function\n",
    "\n",
    "class DataFolkz:\n",
    "    def __init__(self, txt):\n",
    "        self.message = txt\n",
    "\n",
    "    def printmessage(self):\n",
    "        print(self.message)\n",
    "\n",
    "class Learner(DataFolkz):\n",
    "    def __init__(self, txt):\n",
    "        super().__init__(txt)\n",
    "\n",
    "x = Learner(\"Hello, and welcome to DataFolkz\")\n",
    "\n",
    "x.printmessage()"
   ]
  },
  {
   "cell_type": "code",
   "execution_count": null,
   "metadata": {},
   "outputs": [],
   "source": []
  },
  {
   "cell_type": "code",
   "execution_count": null,
   "metadata": {},
   "outputs": [],
   "source": []
  },
  {
   "cell_type": "code",
   "execution_count": null,
   "metadata": {},
   "outputs": [],
   "source": []
  },
  {
   "cell_type": "code",
   "execution_count": null,
   "metadata": {},
   "outputs": [],
   "source": []
  }
 ],
 "metadata": {
  "kernelspec": {
   "display_name": "Python 3",
   "language": "python",
   "name": "python3"
  },
  "language_info": {
   "codemirror_mode": {
    "name": "ipython",
    "version": 3
   },
   "file_extension": ".py",
   "mimetype": "text/x-python",
   "name": "python",
   "nbconvert_exporter": "python",
   "pygments_lexer": "ipython3",
   "version": "3.7.6"
  }
 },
 "nbformat": 4,
 "nbformat_minor": 4
}
